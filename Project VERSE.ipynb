{
 "cells": [
  {
   "cell_type": "code",
   "execution_count": 1,
   "id": "efed0a34",
   "metadata": {},
   "outputs": [],
   "source": [
    "from lyricsgenius import Genius\n",
    "import numpy as np\n",
    "from PIL import Image\n",
    "from wordcloud import WordCloud\n",
    "import matplotlib.pyplot as plt\n",
    "from nltk.corpus import stopwords"
   ]
  },
  {
   "cell_type": "code",
   "execution_count": 43,
   "id": "4316f0a3",
   "metadata": {},
   "outputs": [
    {
     "name": "stdout",
     "output_type": "stream",
     "text": [
      "Searching for songs by Louis Tomlinson...\n",
      "\n",
      "Song 1: \"Back to You\"\n",
      "\n",
      "Reached user-specified song limit (1).\n",
      "Done. Found 1 songs.\n",
      "Songs grabbed:1\n",
      "Searching for songs by Harry Styles...\n",
      "\n",
      "Song 1: \"Sign of the Times\"\n",
      "\n",
      "Reached user-specified song limit (1).\n",
      "Done. Found 1 songs.\n",
      "some exception at Harry Styles: 1\n"
     ]
    }
   ],
   "source": [
    "import os\n",
    "#token = os.environ.get('LuYDzlVunT1wUHwS03zs0ak7Cwa9wEAvPchN0I8isYkGR6hmX8-fY51Bj24NJE8Y')\n",
    "token= 'LuYDzlVunT1wUHwS03zs0ak7Cwa9wEAvPchN0I8isYkGR6hmX8-fY51Bj24NJE8Y'\n",
    "file=open('lyrics.txt',\"w\")\n",
    "genius = Genius(token)\n",
    "#https://towardsdatascience.com/song-lyrics-genius-api-dcc2819c29\n",
    "def get_lyrics(arr, k):\n",
    "    c = 0\n",
    "    for name in arr:\n",
    "        try:\n",
    "            songs = (genius.search_artist(name, max_songs=k, sort='popularity')).songs #investigate syntax\n",
    "            s = [song.lyrics for song in songs]\n",
    "            file.write(\"\\n \\n   <|endoftext|>   \\n \\n\".join(s))\n",
    "            c += 1\n",
    "            print(f\"Songs grabbed:{len(s)}\")\n",
    "        except:\n",
    "            print(f\"some exception at {name}: {c}\")\n",
    "artists=['Louis Tomlinson','Harry Styles']\n",
    "get_lyrics(artists,1)\n"
   ]
  },
  {
   "cell_type": "code",
   "execution_count": 44,
   "id": "ac0e4fcc",
   "metadata": {},
   "outputs": [
    {
     "data": {
      "text/plain": [
       "\"117 ContributorsBack to You Lyrics[Verse 1: Bebe Rexha]\\nI know you say you know me, know me well\\nBut these days I don't even know myself, no\\nI always thought I'd be with someone else\\nI thought I would own the way I felt, yeah\\n\\n[Pre-Chorus: Bebe Rexha]\\nI call you but you never even answer\\nI tell myself I'm done with wicked games\\nBut then I get so numb with all the laughter\\nThat I forget about the pain\\n\\n[Chorus: Bebe Rexha]\\nOh, you stress me out, you kill me\\nYou drag me down, you fuck me up\\nWe're on the ground, we're screaming\\nI don't know how to make it stop\\nI love it, I hate it\\nAnd I can't take it\\nBut I keep on coming back to you\\n\\n[Verse 2: Louis Tomlinson]\\nI know my friends, they give me bad advice\\nLike move on, get you out my mind\\nBut don't you think I haven't even tried?\\nYou got me cornered and my hands are tied\\nSee Louis Tomlinson LiveGet tickets as low as $8You might also like[Pre-Chorus: Louis Tomlinson & Bebe Rexha]\\nYou got me so addicted to the drama\\nI tell myself I'm done with wicked games\\nBut then I get so numb with all the laughter\\nThat I forget about the pain\\n\\n[Chorus: Louis Tomlinson]\\nOh, you stress me out, you kill me\\nYou drag me down, you fuck me up\\nWe're on the ground, we're screaming\\nI don't know how to make it stop\\nI love it, I hate it\\nAnd I can't take it\\nBut I keep on coming back to you\\n\\n[Post-Chorus: Louis Tomlinson]\\n(Back to you)\\nOh no, no, I just keep on coming back to you\\n(Back to you)\\nOh no, no, I just keep on coming back to you\\n\\n[Bridge: Louis Tomlinson]\\nAnd I guess you'll never know\\nAll the bullshit that you put me through\\nAnd I guess you'll never know, no\\n[Pre-Chorus: Bebe Rexha, Louis Tomlinson]\\nYeah, so you can cut me up and kiss me harder\\nYou can be the pill to ease the pain\\n'Cause I know I'm addicted to your drama\\nBaby, here we go again\\n\\n[Chorus: Louis Tomlinson & Bebe Rexha]\\nOh, you stress me out, you kill me\\nYou drag me down, you fuck me up\\nWe're on the ground, we're screaming\\nI don't know how to make it stop\\nI love it, I hate it\\nAnd I can't take it\\nBut I keep on coming back to you\\n\\n[Post-Chorus: Louis Tomlinson & Bebe Rexha, Louis Tomlinson]\\n(Back to you)\\nOh no, no, I just keep on coming back to you\\n(Back to you)\\nOh no, no, I just keep on coming back to you (To you)\\n(Back to you) (To you)\\nI just keep on coming back to you132Embed\""
      ]
     },
     "execution_count": 44,
     "metadata": {},
     "output_type": "execute_result"
    }
   ],
   "source": [
    "file=open('lyrics.txt',\"r\")\n",
    "file.read()"
   ]
  }
 ],
 "metadata": {
  "kernelspec": {
   "display_name": "Python 3 (ipykernel)",
   "language": "python",
   "name": "python3"
  },
  "language_info": {
   "codemirror_mode": {
    "name": "ipython",
    "version": 3
   },
   "file_extension": ".py",
   "mimetype": "text/x-python",
   "name": "python",
   "nbconvert_exporter": "python",
   "pygments_lexer": "ipython3",
   "version": "3.10.9"
  }
 },
 "nbformat": 4,
 "nbformat_minor": 5
}
